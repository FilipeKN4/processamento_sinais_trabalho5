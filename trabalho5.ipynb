{
 "cells": [
  {
   "cell_type": "code",
   "execution_count": 28,
   "metadata": {},
   "outputs": [
    {
     "name": "stdout",
     "output_type": "stream",
     "text": [
      "\u001b[31mERROR: Could not find a version that satisfies the requirement matplotlip (from versions: none)\u001b[0m\n",
      "\u001b[31mERROR: No matching distribution found for matplotlip\u001b[0m\n",
      "Requirement already satisfied: sklearn in /home/filipe/.virtualenvs/financas/lib/python3.6/site-packages (0.0)\n",
      "Requirement already satisfied: scikit-learn in /home/filipe/.virtualenvs/financas/lib/python3.6/site-packages (from sklearn) (0.22)\n",
      "Requirement already satisfied: scipy>=0.17.0 in /home/filipe/.virtualenvs/financas/lib/python3.6/site-packages (from scikit-learn->sklearn) (1.3.3)\n",
      "Requirement already satisfied: numpy>=1.11.0 in /home/filipe/.virtualenvs/financas/lib/python3.6/site-packages (from scikit-learn->sklearn) (1.17.4)\n",
      "Requirement already satisfied: joblib>=0.11 in /home/filipe/.virtualenvs/financas/lib/python3.6/site-packages (from scikit-learn->sklearn) (0.14.0)\n",
      "/bin/sh: 1: brew: not found\n"
     ]
    }
   ],
   "source": [
    "!pip3 install matplotlip\n",
    "!pip3 install sklearn"
   ]
  },
  {
   "cell_type": "code",
   "execution_count": 1,
   "metadata": {},
   "outputs": [],
   "source": [
    "%matplotlib inline \n",
    "import numpy as np\n",
    "import matplotlib.pyplot as plt\n",
    "import socket, numpy as np\n",
    "from sklearn.linear_model import LinearRegression\n",
    "import matplotlib.pyplot as plt\n",
    "from talib import RSI"
   ]
  },
  {
   "cell_type": "code",
   "execution_count": 2,
   "metadata": {},
   "outputs": [],
   "source": [
    "class socketserver:                                                 #Classe do servidor socket                                                  \n",
    "    def __init__(self, address = '', port = 9090):                     #construtor (endereço IP, porta).\n",
    "        self.sock = socket.socket(socket.AF_INET, socket.SOCK_STREAM)    #Protocolo e tipo de socket\n",
    "        self.address = address                                           #Endereço\n",
    "        self.port = port                                                 #Porta TCP/IP\n",
    "        self.sock.bind((self.address, self.port))                        #Realiza a conexão\n",
    "        self.cummdata = ''                                               #Armazenar dos dados\n",
    "        \n",
    "    def recvmsg(self):                                                 #Metodo de troca de mensagens\n",
    "        self.sock.listen(1)                                              #Escuta o socket, fila 1\n",
    "        self.conn, self.addr = self.sock.accept()                        #Aceita a nova conexão\n",
    "        print('connected to', self.addr)                                 #Imprime informações da nova conexão\n",
    "        self.cummdata = ''                                               #Armazenar dos dados\n",
    "\n",
    "        while True:\n",
    "            data = self.conn.recv(10000)\n",
    "            self.cummdata+=data.decode(\"utf-8\")\n",
    "            if not data:\n",
    "                break    \n",
    "            self.conn.send(bytes(calcrsi(self.cummdata), \"utf-8\"))\n",
    "\n",
    "            return self.cummdata\n",
    "            \n",
    "    def __del__(self):\n",
    "        self.sock.close()\n",
    "\n",
    "        \n",
    "def calcregr(msg = ''):\n",
    "    chartdata = np.fromstring(msg, dtype=float, sep= ' ') \n",
    "    Y = np.array(chartdata).reshape(-1,1)\n",
    "    X = np.array(np.arange(len(chartdata))).reshape(-1,1)\n",
    "    \n",
    "    lr = LinearRegression()\n",
    "    lr.fit(X, Y)\n",
    "    Y_pred = lr.predict(X)\n",
    "    type(Y_pred)\n",
    "    P = Y_pred.astype(str).item(-1) + ' ' + Y_pred.astype(str).item(0)\n",
    "    print(\"Points in Regression\",P)\n",
    "    return str(P)\n",
    "\n",
    "def calcrsi(msg = ''):\n",
    "    chartdata = np.fromstring(msg, dtype=float, sep= ' ') \n",
    "    Y = np.array(chartdata).reshape(-1,1)\n",
    "    X = np.array(np.arange(len(chartdata))).reshape(-1,1)\n",
    "    \n",
    "    #print(chartdata)\n",
    "    #print(X)\n",
    "    rsi = RSI(chartdata, timeperiod=14)\n",
    "    print(rsi)\n",
    "    \n",
    "    lr = LinearRegression()\n",
    "    lr.fit(X, Y)\n",
    "    Y_pred = lr.predict(X)\n",
    "    type(Y_pred)\n",
    "    P = Y_pred.astype(str).item(-1) + ' ' + Y_pred.astype(str).item(0)\n",
    "    #print(\"Points in Regression\",P)\n",
    "    return str(P)\n",
    "    \n",
    "    "
   ]
  },
  {
   "cell_type": "code",
   "execution_count": 5,
   "metadata": {},
   "outputs": [
    {
     "ename": "NameError",
     "evalue": "name 'serv' is not defined",
     "output_type": "error",
     "traceback": [
      "\u001b[0;31m---------------------------------------------------------------------------\u001b[0m",
      "\u001b[0;31mNameError\u001b[0m                                 Traceback (most recent call last)",
      "\u001b[0;32m<ipython-input-5-e00ae56604d2>\u001b[0m in \u001b[0;36m<module>\u001b[0;34m\u001b[0m\n\u001b[1;32m      8\u001b[0m \u001b[0mresults\u001b[0m\u001b[0;34m=\u001b[0m\u001b[0;34m[\u001b[0m\u001b[0;34m]\u001b[0m\u001b[0;34m\u001b[0m\u001b[0;34m\u001b[0m\u001b[0m\n\u001b[1;32m      9\u001b[0m \u001b[0;32mwhile\u001b[0m \u001b[0;32mTrue\u001b[0m\u001b[0;34m:\u001b[0m\u001b[0;34m\u001b[0m\u001b[0;34m\u001b[0m\u001b[0m\n\u001b[0;32m---> 10\u001b[0;31m     \u001b[0mmsg\u001b[0m \u001b[0;34m=\u001b[0m \u001b[0mserv\u001b[0m\u001b[0;34m.\u001b[0m\u001b[0mrecvmsg\u001b[0m\u001b[0;34m(\u001b[0m\u001b[0;34m)\u001b[0m\u001b[0;34m\u001b[0m\u001b[0;34m\u001b[0m\u001b[0m\n\u001b[0m\u001b[1;32m     11\u001b[0m     \u001b[0mresults\u001b[0m\u001b[0;34m=\u001b[0m\u001b[0mlist\u001b[0m\u001b[0;34m(\u001b[0m\u001b[0mmap\u001b[0m\u001b[0;34m(\u001b[0m\u001b[0mfloat\u001b[0m\u001b[0;34m,\u001b[0m \u001b[0mmsg\u001b[0m\u001b[0;34m.\u001b[0m\u001b[0msplit\u001b[0m\u001b[0;34m(\u001b[0m\u001b[0;34m)\u001b[0m\u001b[0;34m)\u001b[0m\u001b[0;34m)\u001b[0m\u001b[0;34m\u001b[0m\u001b[0;34m\u001b[0m\u001b[0m\n\u001b[1;32m     12\u001b[0m     \u001b[0;31m#plt.plot(results)\u001b[0m\u001b[0;34m\u001b[0m\u001b[0;34m\u001b[0m\u001b[0;34m\u001b[0m\u001b[0m\n",
      "\u001b[0;31mNameError\u001b[0m: name 'serv' is not defined"
     ]
    }
   ],
   "source": [
    "port=9090\n",
    "\n",
    "\n",
    "#print(serv)\n",
    "\n",
    "serv = socketserver('127.0.0.1', port)\n",
    "\n",
    "results=[]\n",
    "while True:   \n",
    "    msg = serv.recvmsg()\n",
    "    results=list(map(float, msg.split()))\n",
    "    #plt.plot(results)\n",
    "    #print(\"Prices Received\",msg)\n",
    "    print(\"\")"
   ]
  },
  {
   "cell_type": "code",
   "execution_count": 17,
   "metadata": {},
   "outputs": [
    {
     "ename": "OSError",
     "evalue": "[Errno 9] Bad file descriptor",
     "output_type": "error",
     "traceback": [
      "\u001b[0;31m---------------------------------------------------------------------------\u001b[0m",
      "\u001b[0;31mOSError\u001b[0m                                   Traceback (most recent call last)",
      "\u001b[0;32m<ipython-input-17-b0824c48a15b>\u001b[0m in \u001b[0;36m<module>\u001b[0;34m\u001b[0m\n\u001b[1;32m      1\u001b[0m \u001b[0mserv\u001b[0m\u001b[0;34m.\u001b[0m\u001b[0m__del__\u001b[0m\u001b[0;34m\u001b[0m\u001b[0;34m\u001b[0m\u001b[0m\n\u001b[0;32m----> 2\u001b[0;31m \u001b[0mserv\u001b[0m\u001b[0;34m.\u001b[0m\u001b[0msock\u001b[0m\u001b[0;34m.\u001b[0m\u001b[0mshutdown\u001b[0m\u001b[0;34m(\u001b[0m\u001b[0msocket\u001b[0m\u001b[0;34m.\u001b[0m\u001b[0mSHUT_RDWR\u001b[0m\u001b[0;34m)\u001b[0m\u001b[0;34m\u001b[0m\u001b[0;34m\u001b[0m\u001b[0m\n\u001b[0m",
      "\u001b[0;31mOSError\u001b[0m: [Errno 9] Bad file descriptor"
     ]
    }
   ],
   "source": [
    "serv.__del__\n",
    "serv.sock.shutdown(socket.SHUT_RDWR)"
   ]
  }
 ],
 "metadata": {
  "kernelspec": {
   "display_name": "Python 3",
   "language": "python",
   "name": "python3"
  },
  "language_info": {
   "codemirror_mode": {
    "name": "ipython",
    "version": 3
   },
   "file_extension": ".py",
   "mimetype": "text/x-python",
   "name": "python",
   "nbconvert_exporter": "python",
   "pygments_lexer": "ipython3",
   "version": "3.6.9"
  }
 },
 "nbformat": 4,
 "nbformat_minor": 2
}
